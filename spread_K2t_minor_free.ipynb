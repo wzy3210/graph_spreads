{
 "cells": [
  {
   "cell_type": "code",
   "execution_count": 1,
   "id": "93cab6fc",
   "metadata": {},
   "outputs": [
    {
     "data": {
      "text/html": [
       "<html>\\(\\displaystyle -a + 2 \\, y\\)</html>"
      ],
      "text/latex": [
       "$\\displaystyle -a + 2 \\, y$"
      ],
      "text/plain": [
       "-a + 2*y"
      ]
     },
     "metadata": {},
     "output_type": "display_data"
    },
    {
     "data": {
      "text/html": [
       "<html>\\(\\displaystyle \\left[y = \\frac{1}{2} \\, a\\right]\\)</html>"
      ],
      "text/latex": [
       "$\\displaystyle \\left[y = \\frac{1}{2} \\, a\\right]$"
      ],
      "text/plain": [
       "[y == 1/2*a]"
      ]
     },
     "metadata": {},
     "output_type": "display_data"
    },
    {
     "data": {
      "text/html": [
       "<html>\\(\\displaystyle \\left[y = \\frac{1}{2} \\, a\\right]\\)</html>"
      ],
      "text/latex": [
       "$\\displaystyle \\left[y = \\frac{1}{2} \\, a\\right]$"
      ],
      "text/plain": [
       "[y == 1/2*a]"
      ]
     },
     "metadata": {},
     "output_type": "display_data"
    },
    {
     "data": {
      "text/html": [
       "<html>\\(\\displaystyle \\frac{1}{2} \\, a\\)</html>"
      ],
      "text/latex": [
       "$\\displaystyle \\frac{1}{2} \\, a$"
      ],
      "text/plain": [
       "1/2*a"
      ]
     },
     "metadata": {},
     "output_type": "display_data"
    }
   ],
   "source": [
    "#Authored by Linyuan Lu (2022)\n",
    "#Computations for the maximum spread of K_{2,t}-minor-free graphs\n",
    "#Here n='n-1' and l='l-1' for simplicity.\n",
    "#t=lambda\n",
    "reset()\n",
    "var('F,t, l, n, x, y,a,b,c,d, e,f')\n",
    "assume(x>0)\n",
    "F1 = t^3 -n*t  - a*n\n",
    "\n",
    "\n",
    "#compute c_1 in lambda_1\n",
    "F2 = F1.substitute(t=sqrt(n)+y)\n",
    "#Main term in the expansion\n",
    "F3=limit(F2/n, n= Infinity)\n",
    "show(F3)\n",
    "sol1=solve(F3,y)\n",
    "show(sol1)\n",
    "\n",
    "#compute c_1 in lambda_n\n",
    "F4 = F1.substitute(t=-sqrt(n)+y)\n",
    "#Main term in the expansion\n",
    "F5=limit(F4/n, n= Infinity)\n",
    "sol2=solve(F5,y)\n",
    "show(sol2)\n",
    "\n",
    "c1=sol1[0].rhs()\n",
    "show(c1)"
   ]
  },
  {
   "cell_type": "code",
   "execution_count": 2,
   "id": "44e9747e",
   "metadata": {},
   "outputs": [
    {
     "data": {
      "text/html": [
       "<html>\\(\\displaystyle \\frac{3}{4} \\, a^{2} - b + 2 \\, y\\)</html>"
      ],
      "text/latex": [
       "$\\displaystyle \\frac{3}{4} \\, a^{2} - b + 2 \\, y$"
      ],
      "text/plain": [
       "3/4*a^2 - b + 2*y"
      ]
     },
     "metadata": {},
     "output_type": "display_data"
    },
    {
     "data": {
      "text/html": [
       "<html>\\(\\displaystyle \\left[y = -\\frac{3}{8} \\, a^{2} + \\frac{1}{2} \\, b\\right]\\)</html>"
      ],
      "text/latex": [
       "$\\displaystyle \\left[y = -\\frac{3}{8} \\, a^{2} + \\frac{1}{2} \\, b\\right]$"
      ],
      "text/plain": [
       "[y == -3/8*a^2 + 1/2*b]"
      ]
     },
     "metadata": {},
     "output_type": "display_data"
    },
    {
     "data": {
      "text/html": [
       "<html>\\(\\displaystyle \\frac{3}{4} \\, a^{2} - b + 2 \\, y\\)</html>"
      ],
      "text/latex": [
       "$\\displaystyle \\frac{3}{4} \\, a^{2} - b + 2 \\, y$"
      ],
      "text/plain": [
       "3/4*a^2 - b + 2*y"
      ]
     },
     "metadata": {},
     "output_type": "display_data"
    },
    {
     "data": {
      "text/html": [
       "<html>\\(\\displaystyle \\left[y = -\\frac{3}{8} \\, a^{2} + \\frac{1}{2} \\, b\\right]\\)</html>"
      ],
      "text/latex": [
       "$\\displaystyle \\left[y = -\\frac{3}{8} \\, a^{2} + \\frac{1}{2} \\, b\\right]$"
      ],
      "text/plain": [
       "[y == -3/8*a^2 + 1/2*b]"
      ]
     },
     "metadata": {},
     "output_type": "display_data"
    },
    {
     "data": {
      "text/html": [
       "<html>\\(\\displaystyle -\\frac{3}{8} \\, a^{2} + \\frac{1}{2} \\, b\\)</html>"
      ],
      "text/latex": [
       "$\\displaystyle -\\frac{3}{8} \\, a^{2} + \\frac{1}{2} \\, b$"
      ],
      "text/plain": [
       "-3/8*a^2 + 1/2*b"
      ]
     },
     "metadata": {},
     "output_type": "display_data"
    }
   ],
   "source": [
    "F1 = t^4 -n*t^2  - a*n*t-b*n\n",
    "\n",
    "#compute c_2 in lambda_1\n",
    "F2 = F1.substitute(t=sqrt(n)+c1+y/sqrt(n))\n",
    "#Main term in the expansion\n",
    "F3=limit(F2/n, n= Infinity)\n",
    "show(F3)\n",
    "sol1=solve(F3,y)\n",
    "show(sol1)\n",
    "\n",
    "#compute c_2 in lambda_n\n",
    "F4 = F1.substitute(t=-sqrt(n)+c1-y/sqrt(n))\n",
    "#Main term in the expansion\n",
    "F5=limit(F4/n, n= Infinity)\n",
    "show(F5)\n",
    "sol2=solve(F5,y)\n",
    "show(sol2)\n",
    "\n",
    "c2=sol1[0].rhs()\n",
    "show(c2)\n",
    "\n"
   ]
  },
  {
   "cell_type": "code",
   "execution_count": 3,
   "id": "3d1b1d42",
   "metadata": {},
   "outputs": [
    {
     "data": {
      "text/html": [
       "<html>\\(\\displaystyle -a^{3} + 2 \\, a b - c + 2 \\, y\\)</html>"
      ],
      "text/latex": [
       "$\\displaystyle -a^{3} + 2 \\, a b - c + 2 \\, y$"
      ],
      "text/plain": [
       "-a^3 + 2*a*b - c + 2*y"
      ]
     },
     "metadata": {},
     "output_type": "display_data"
    },
    {
     "data": {
      "text/html": [
       "<html>\\(\\displaystyle \\left[y = \\frac{1}{2} \\, a^{3} - a b + \\frac{1}{2} \\, c\\right]\\)</html>"
      ],
      "text/latex": [
       "$\\displaystyle \\left[y = \\frac{1}{2} \\, a^{3} - a b + \\frac{1}{2} \\, c\\right]$"
      ],
      "text/plain": [
       "[y == 1/2*a^3 - a*b + 1/2*c]"
      ]
     },
     "metadata": {},
     "output_type": "display_data"
    },
    {
     "data": {
      "text/html": [
       "<html>\\(\\displaystyle -a^{3} + 2 \\, a b - c + 2 \\, y\\)</html>"
      ],
      "text/latex": [
       "$\\displaystyle -a^{3} + 2 \\, a b - c + 2 \\, y$"
      ],
      "text/plain": [
       "-a^3 + 2*a*b - c + 2*y"
      ]
     },
     "metadata": {},
     "output_type": "display_data"
    },
    {
     "data": {
      "text/html": [
       "<html>\\(\\displaystyle \\left[y = \\frac{1}{2} \\, a^{3} - a b + \\frac{1}{2} \\, c\\right]\\)</html>"
      ],
      "text/latex": [
       "$\\displaystyle \\left[y = \\frac{1}{2} \\, a^{3} - a b + \\frac{1}{2} \\, c\\right]$"
      ],
      "text/plain": [
       "[y == 1/2*a^3 - a*b + 1/2*c]"
      ]
     },
     "metadata": {},
     "output_type": "display_data"
    },
    {
     "data": {
      "text/html": [
       "<html>\\(\\displaystyle \\frac{1}{2} \\, a^{3} - a b + \\frac{1}{2} \\, c\\)</html>"
      ],
      "text/latex": [
       "$\\displaystyle \\frac{1}{2} \\, a^{3} - a b + \\frac{1}{2} \\, c$"
      ],
      "text/plain": [
       "1/2*a^3 - a*b + 1/2*c"
      ]
     },
     "metadata": {},
     "output_type": "display_data"
    }
   ],
   "source": [
    "F1 = t^5 -n*t^3  - a*n*t^2- b*n*t -c*n\n",
    "\n",
    "#compute c_3 in lambda_1\n",
    "F2 = F1.substitute(t=sqrt(n) + c1 + c2/sqrt(n) +y/n)\n",
    "#Main term in the expansion\n",
    "F3=limit(F2/n, n= Infinity)\n",
    "show(F3)\n",
    "sol1=solve(F3,y)\n",
    "show(sol1)\n",
    "\n",
    "#compute c_3 in lambda_n\n",
    "F4 = F1.substitute(t=-sqrt(n)+ c1 -c2/sqrt(n) +y/n)\n",
    "#Main term in the expansion\n",
    "F5=limit(F4/n, n= Infinity)\n",
    "show(F5)\n",
    "sol2=solve(F5,y)\n",
    "show(sol2)\n",
    "\n",
    "c3=sol1[0].rhs()\n",
    "show(c3)"
   ]
  },
  {
   "cell_type": "code",
   "execution_count": 4,
   "id": "324c036c",
   "metadata": {},
   "outputs": [
    {
     "data": {
      "text/html": [
       "<html>\\(\\displaystyle \\frac{105}{64} \\, a^{4} - \\frac{35}{8} \\, a^{2} b + \\frac{5}{4} \\, b^{2} + \\frac{5}{2} \\, a c - d + 2 \\, y\\)</html>"
      ],
      "text/latex": [
       "$\\displaystyle \\frac{105}{64} \\, a^{4} - \\frac{35}{8} \\, a^{2} b + \\frac{5}{4} \\, b^{2} + \\frac{5}{2} \\, a c - d + 2 \\, y$"
      ],
      "text/plain": [
       "105/64*a^4 - 35/8*a^2*b + 5/4*b^2 + 5/2*a*c - d + 2*y"
      ]
     },
     "metadata": {},
     "output_type": "display_data"
    },
    {
     "data": {
      "text/html": [
       "<html>\\(\\displaystyle \\frac{105}{64} \\, a^{4} - \\frac{35}{8} \\, a^{2} b + \\frac{5}{4} \\, b^{2} + \\frac{5}{2} \\, a c - d + 2 \\, y\\)</html>"
      ],
      "text/latex": [
       "$\\displaystyle \\frac{105}{64} \\, a^{4} - \\frac{35}{8} \\, a^{2} b + \\frac{5}{4} \\, b^{2} + \\frac{5}{2} \\, a c - d + 2 \\, y$"
      ],
      "text/plain": [
       "105/64*a^4 - 35/8*a^2*b + 5/4*b^2 + 5/2*a*c - d + 2*y"
      ]
     },
     "metadata": {},
     "output_type": "display_data"
    },
    {
     "data": {
      "text/html": [
       "<html>\\(\\displaystyle \\left[y = -\\frac{105}{128} \\, a^{4} + \\frac{35}{16} \\, a^{2} b - \\frac{5}{8} \\, b^{2} - \\frac{5}{4} \\, a c + \\frac{1}{2} \\, d\\right]\\)</html>"
      ],
      "text/latex": [
       "$\\displaystyle \\left[y = -\\frac{105}{128} \\, a^{4} + \\frac{35}{16} \\, a^{2} b - \\frac{5}{8} \\, b^{2} - \\frac{5}{4} \\, a c + \\frac{1}{2} \\, d\\right]$"
      ],
      "text/plain": [
       "[y == -105/128*a^4 + 35/16*a^2*b - 5/8*b^2 - 5/4*a*c + 1/2*d]"
      ]
     },
     "metadata": {},
     "output_type": "display_data"
    },
    {
     "data": {
      "text/html": [
       "<html>\\(\\displaystyle -\\frac{105}{128} \\, a^{4} + \\frac{35}{16} \\, a^{2} b - \\frac{5}{8} \\, b^{2} - \\frac{5}{4} \\, a c + \\frac{1}{2} \\, d\\)</html>"
      ],
      "text/latex": [
       "$\\displaystyle -\\frac{105}{128} \\, a^{4} + \\frac{35}{16} \\, a^{2} b - \\frac{5}{8} \\, b^{2} - \\frac{5}{4} \\, a c + \\frac{1}{2} \\, d$"
      ],
      "text/plain": [
       "-105/128*a^4 + 35/16*a^2*b - 5/8*b^2 - 5/4*a*c + 1/2*d"
      ]
     },
     "metadata": {},
     "output_type": "display_data"
    }
   ],
   "source": [
    "F1 = t^6 -n*t^4  - a*n*t^3- b*n*t^2 -c*n*t -d*n\n",
    "\n",
    "\n",
    "#compute c_4 in lambda_1\n",
    "F2 = F1.substitute(t=sqrt(n) +c1+ c2/sqrt(n) + c3/n + y/n^(3/2))\n",
    "#Main term in the expansion\n",
    "F3=limit(F2/n, n= Infinity)\n",
    "show(F3)\n",
    "sol1=solve(F3,y)\n",
    "\n",
    "#compute c_4 in lambda_n\n",
    "F4 = F1.substitute(t=-sqrt(n)+c1-c2/sqrt(n) + c3/n - y/n^(3/2))\n",
    "#Main term in the expansion\n",
    "F5=limit(F4/n, n= Infinity)\n",
    "show(F5)\n",
    "sol2=solve(F5,y)\n",
    "show(sol2)\n",
    "\n",
    "c4=sol1[0].rhs()\n",
    "show(c4)\n"
   ]
  },
  {
   "cell_type": "code",
   "execution_count": null,
   "id": "50abf28d",
   "metadata": {},
   "outputs": [],
   "source": [
    "F1 = t^7 -n*t^5  - a*n*t^4- b*n*t^3 -c*n*t^2 -d*n*t -e*n\n",
    "\n",
    "\n",
    "#compute c_5 in lambda_1\n",
    "F2 = F1.substitute(t=sqrt(n) + c1 + c2/sqrt(n) + c3/n + c4/n^(3/2) + y/n^2)\n",
    "#Main term in the expansion\n",
    "F3=limit(F2/n, n= Infinity)\n",
    "show(F3)\n",
    "sol1=solve(F3,y)\n",
    "show(sol1)\n",
    "\n",
    "#compute c_5 in lambda_n\n",
    "F4 = F1.substitute(t=-sqrt(n)+ c1 - c2/sqrt(n) + c3/n - c4/n^(3/2) + y/n^2)\n",
    "#Main term in the expansion\n",
    "F5=limit(F4/n, n=Infinity)\n",
    "show(F5)\n",
    "sol2=solve(F5,y)\n",
    "show(sol2)\n",
    "\n",
    "c5=sol1[0].rhs()\n",
    "show(c5)"
   ]
  },
  {
   "cell_type": "code",
   "execution_count": null,
   "id": "c5b3ec29",
   "metadata": {},
   "outputs": [],
   "source": [
    "F1 = t^8 -n*t^6  - a*n*t^5- b*n*t^4 -c*n*t^3 -d*n*t^2 -e*n*t -f*n\n",
    "\n",
    "show(F1)\n",
    "\n",
    "#compute c_6 in lambda_1\n",
    "F2 = F1.substitute(t=sqrt(n)+ c1 + c2/sqrt(n) + c3/n + c4/n^(3/2) + c5/n^2 + y/n^(5/2) )\n",
    "#Main term in the expansion\n",
    "F3=limit(F2/n, n= Infinity)\n",
    "show(F3)\n",
    "sol1=solve(F3,y)\n",
    "show(sol1)\n",
    "\n",
    "#compute c_6 in lambda_n\n",
    "F4 = F1.substitute(t=-sqrt(n)+ c1 - c2/sqrt(n) + c3/n - c4/n^(3/2) + c5/n^2 - y/n^(5/2))\n",
    "#Main term in the expansion\n",
    "F5=limit(F4/n, n=Infinity)\n",
    "show(F5)\n",
    "sol2=solve(F5,y)\n",
    "show(sol2)\n",
    "\n",
    "c6=sol1[0].rhs()\n",
    "show(c6)\n"
   ]
  },
  {
   "cell_type": "code",
   "execution_count": null,
   "id": "9a92d591",
   "metadata": {},
   "outputs": [],
   "source": []
  },
  {
   "cell_type": "code",
   "execution_count": null,
   "id": "c76f3fca",
   "metadata": {},
   "outputs": [],
   "source": []
  },
  {
   "cell_type": "code",
   "execution_count": null,
   "id": "a2dc634b",
   "metadata": {},
   "outputs": [],
   "source": []
  },
  {
   "cell_type": "code",
   "execution_count": null,
   "id": "0174a7a7",
   "metadata": {},
   "outputs": [],
   "source": []
  },
  {
   "cell_type": "code",
   "execution_count": null,
   "id": "a575f68e",
   "metadata": {},
   "outputs": [],
   "source": []
  }
 ],
 "metadata": {
  "kernelspec": {
   "display_name": "SageMath 9.6",
   "language": "sage",
   "name": "sagemath-9.6"
  },
  "language_info": {
   "codemirror_mode": {
    "name": "ipython",
    "version": 3
   },
   "file_extension": ".py",
   "mimetype": "text/x-python",
   "name": "python",
   "nbconvert_exporter": "python",
   "pygments_lexer": "ipython3",
   "version": "3.10.3"
  }
 },
 "nbformat": 4,
 "nbformat_minor": 5
}
